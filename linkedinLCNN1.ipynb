{
  "nbformat": 4,
  "nbformat_minor": 0,
  "metadata": {
    "colab": {
      "provenance": [],
      "authorship_tag": "ABX9TyNYcWOGawvGVjeBE383w6Jw",
      "include_colab_link": true
    },
    "kernelspec": {
      "name": "python3",
      "display_name": "Python 3"
    },
    "language_info": {
      "name": "python"
    }
  },
  "cells": [
    {
      "cell_type": "markdown",
      "metadata": {
        "id": "view-in-github",
        "colab_type": "text"
      },
      "source": [
        "<a href=\"https://colab.research.google.com/github/SidneyWilcox/pythonObjectDetection/blob/main/linkedinLCNN1.ipynb\" target=\"_parent\"><img src=\"https://colab.research.google.com/assets/colab-badge.svg\" alt=\"Open In Colab\"/></a>"
      ]
    },
    {
      "cell_type": "code",
      "source": [],
      "metadata": {
        "id": "N8XoYieGu5tX"
      },
      "execution_count": null,
      "outputs": []
    },
    {
      "cell_type": "markdown",
      "source": [
        "Import The Packages"
      ],
      "metadata": {
        "id": "1cbrfrilj9eU"
      }
    },
    {
      "cell_type": "code",
      "execution_count": null,
      "metadata": {
        "id": "pH4btK6Mi9wj"
      },
      "outputs": [],
      "source": [
        "from keras.datasets import mnist\n",
        "#from keras.preprocessing.image import load_img, array_to_img\n",
        "from keras.utils.np_utils import to_categorical\n",
        "from keras.models import Sequential\n",
        "from keras.layers import Dense\n",
        "import numpy as np\n",
        "import matplotlib.pyplot as plt\n",
        "%matplotlib inline"
      ]
    },
    {
      "cell_type": "markdown",
      "source": [
        "Load The Data"
      ],
      "metadata": {
        "id": "iAgih3cxkdC7"
      }
    },
    {
      "cell_type": "code",
      "source": [
        "(X_train, y_train), (X_test, y_test) = mnist.load_data()"
      ],
      "metadata": {
        "colab": {
          "base_uri": "https://localhost:8080/"
        },
        "id": "WRLxdWjYj8Jx",
        "outputId": "abf873cf-3706-4af4-a097-44b40bea4a2f"
      },
      "execution_count": null,
      "outputs": [
        {
          "output_type": "stream",
          "name": "stdout",
          "text": [
            "Downloading data from https://storage.googleapis.com/tensorflow/tf-keras-datasets/mnist.npz\n",
            "11490434/11490434 [==============================] - 0s 0us/step\n"
          ]
        }
      ]
    },
    {
      "cell_type": "code",
      "source": [
        "print(X_train.shape)\n",
        "print(y_train.shape)\n",
        "print(X_test.shape)\n",
        "print(y_test.shape)"
      ],
      "metadata": {
        "colab": {
          "base_uri": "https://localhost:8080/"
        },
        "id": "YZL4bM9ZlI07",
        "outputId": "5e9f67e7-dece-48f9-f167-fe0dcdec0d90"
      },
      "execution_count": null,
      "outputs": [
        {
          "output_type": "stream",
          "name": "stdout",
          "text": [
            "(60000, 28, 28)\n",
            "(60000,)\n",
            "(10000, 28, 28)\n",
            "(10000,)\n"
          ]
        }
      ]
    },
    {
      "cell_type": "markdown",
      "source": [
        "Understanding The Image Data Fomat"
      ],
      "metadata": {
        "id": "Nqv3GU2WnSyx"
      }
    },
    {
      "cell_type": "code",
      "source": [
        "X_train[0].shape"
      ],
      "metadata": {
        "colab": {
          "base_uri": "https://localhost:8080/"
        },
        "id": "f_2aKdWjldeN",
        "outputId": "7f8103d0-89f5-41ce-b259-18d32588a32d"
      },
      "execution_count": null,
      "outputs": [
        {
          "output_type": "execute_result",
          "data": {
            "text/plain": [
              "(28, 28)"
            ]
          },
          "metadata": {},
          "execution_count": 4
        }
      ]
    },
    {
      "cell_type": "code",
      "source": [
        "plt.imshow(X_train[0], cmap='gray')"
      ],
      "metadata": {
        "colab": {
          "base_uri": "https://localhost:8080/",
          "height": 447
        },
        "id": "cG7fEg6QrXDJ",
        "outputId": "2c410eae-0215-491c-93b8-ad0653c745cb"
      },
      "execution_count": null,
      "outputs": [
        {
          "output_type": "execute_result",
          "data": {
            "text/plain": [
              "<matplotlib.image.AxesImage at 0x7fbc5c661d50>"
            ]
          },
          "metadata": {},
          "execution_count": 5
        },
        {
          "output_type": "display_data",
          "data": {
            "text/plain": [
              "<Figure size 640x480 with 1 Axes>"
            ],
            "image/png": "[encoded data removed]"
          },
          "metadata": {}
        }
      ]
    },
    {
      "cell_type": "code",
      "source": [
        "y_train[0]"
      ],
      "metadata": {
        "colab": {
          "base_uri": "https://localhost:8080/"
        },
        "id": "9XB51ngKrk_M",
        "outputId": "51c4b772-0b7b-46d9-9c9b-ddc89fc6ab82"
      },
      "execution_count": null,
      "outputs": [
        {
          "output_type": "execute_result",
          "data": {
            "text/plain": [
              "5"
            ]
          },
          "metadata": {},
          "execution_count": 6
        }
      ]
    },
    {
      "cell_type": "markdown",
      "source": [
        "Preprocessing The Image Data"
      ],
      "metadata": {
        "id": "1A3uX8jurzAY"
      }
    },
    {
      "cell_type": "code",
      "source": [
        "image_height, image_width = 28,28"
      ],
      "metadata": {
        "id": "oQ8wMGO3rveY"
      },
      "execution_count": null,
      "outputs": []
    },
    {
      "cell_type": "markdown",
      "source": [],
      "metadata": {
        "id": "XsrEqm_msreX"
      }
    },
    {
      "cell_type": "code",
      "source": [
        "X_train = X_train.reshape(60000, image_height*image_width)\n",
        "X_test = X_test.reshape(10000, image_height*image_width)\n",
        "print(X_train.shape)\n",
        "print(X_test.shape)"
      ],
      "metadata": {
        "colab": {
          "base_uri": "https://localhost:8080/"
        },
        "id": "8YcGs7ensR21",
        "outputId": "0b6f7097-3f2a-44f8-ed5d-961f0339acf1"
      },
      "execution_count": null,
      "outputs": [
        {
          "output_type": "stream",
          "name": "stdout",
          "text": [
            "(60000, 784)\n",
            "(10000, 784)\n"
          ]
        }
      ]
    },
    {
      "cell_type": "code",
      "source": [
        "print(X_train[0])\n",
        "X_train = X_train.astype('float')\n",
        "X_test = X_test.astype('float')"
      ],
      "metadata": {
        "id": "8Pr8JejStlhH"
      },
      "execution_count": null,
      "outputs": []
    },
    {
      "cell_type": "code",
      "source": [
        "X_train /= 255.0\n",
        "X_test /= 255.0\n",
        "print(X_train[0])\n",
        "print(X_test[0])"
      ],
      "metadata": {
        "id": "NmVW0jvutzqt"
      },
      "execution_count": null,
      "outputs": []
    },
    {
      "cell_type": "code",
      "source": [
        "print(y_train.shape)\n",
        "print(y_test.shape)"
      ],
      "metadata": {
        "colab": {
          "base_uri": "https://localhost:8080/"
        },
        "id": "LwY3cXI2uQQ4",
        "outputId": "dc2474f7-2aa9-47a2-b5a7-f2795f18fcb8"
      },
      "execution_count": null,
      "outputs": [
        {
          "output_type": "stream",
          "name": "stdout",
          "text": [
            "(60000,)\n",
            "(10000,)\n"
          ]
        }
      ]
    },
    {
      "cell_type": "code",
      "source": [
        "y_train = to_categorical(y_train, 10)\n",
        "y_test = to_categorical(y_test, 10)\n",
        "print(y_train.shape)\n",
        "print(y_test.shape)"
      ],
      "metadata": {
        "colab": {
          "base_uri": "https://localhost:8080/"
        },
        "id": "-Tb2vwVEvOYZ",
        "outputId": "9484c902-5253-489e-800d-17e4d433945c"
      },
      "execution_count": null,
      "outputs": [
        {
          "output_type": "stream",
          "name": "stdout",
          "text": [
            "(60000, 10)\n",
            "(10000, 10)\n"
          ]
        }
      ]
    },
    {
      "cell_type": "markdown",
      "source": [
        "Build A Model"
      ],
      "metadata": {
        "id": "OtplIXr_w6B0"
      }
    },
    {
      "cell_type": "code",
      "source": [
        "model = Sequential()"
      ],
      "metadata": {
        "id": "oA-vg2fWwd1N"
      },
      "execution_count": null,
      "outputs": []
    },
    {
      "cell_type": "code",
      "source": [
        "model.add(Dense(512, activation='relu', input_shape=(784,)))\n",
        "model.add(Dense(512, activation= 'relu'))\n",
        "model.add(Dense(10, activation= 'softmax'))"
      ],
      "metadata": {
        "id": "Jc9kGQBp36kB"
      },
      "execution_count": null,
      "outputs": []
    },
    {
      "cell_type": "markdown",
      "source": [
        "Compile The Model\n"
      ],
      "metadata": {
        "id": "k2IgrXGB5iTX"
      }
    },
    {
      "cell_type": "code",
      "source": [
        "model.compile(optimizer='adam', loss='categorical_crossentropy', metrics=['accuracy'])"
      ],
      "metadata": {
        "id": "mco2Yqh0-h1b"
      },
      "execution_count": null,
      "outputs": []
    },
    {
      "cell_type": "code",
      "source": [
        "model.summary()"
      ],
      "metadata": {
        "colab": {
          "base_uri": "https://localhost:8080/"
        },
        "id": "I2NF57pb_DWf",
        "outputId": "66d58dc6-d5e2-4487-a4d5-d3aed11f5617"
      },
      "execution_count": null,
      "outputs": [
        {
          "output_type": "stream",
          "name": "stdout",
          "text": [
            "Model: \"sequential\"\n",
            "_________________________________________________________________\n",
            " Layer (type)                Output Shape              Param #   \n",
            "=================================================================\n",
            " dense (Dense)               (None, 512)               401920    \n",
            "                                                                 \n",
            " dense_1 (Dense)             (None, 512)               262656    \n",
            "                                                                 \n",
            " dense_2 (Dense)             (None, 10)                5130      \n",
            "                                                                 \n",
            "=================================================================\n",
            "Total params: 669,706\n",
            "Trainable params: 669,706\n",
            "Non-trainable params: 0\n",
            "_________________________________________________________________\n"
          ]
        }
      ]
    },
    {
      "cell_type": "code",
      "source": [
        "First Layer = # of parmeters = 784 inputs * 512 nodes + 512 Bias = 401920"
      ],
      "metadata": {
        "id": "5EY_jG3q_F7i"
      },
      "execution_count": null,
      "outputs": []
    },
    {
      "cell_type": "code",
      "source": [
        "Second Layer  = # of parmeters = 512 input nodes * 512 nodes + 512 parmeters = 262656"
      ],
      "metadata": {
        "id": "dNLD78dyBbRb"
      },
      "execution_count": null,
      "outputs": []
    },
    {
      "cell_type": "code",
      "source": [
        "Third Layer= 512 nodes * 10 nodes + 10 Bias = 5130"
      ],
      "metadata": {
        "id": "_oGcuvvSCCqp"
      },
      "execution_count": null,
      "outputs": []
    },
    {
      "cell_type": "markdown",
      "source": [
        "Train The Model"
      ],
      "metadata": {
        "id": "DY83_MjlCpzi"
      }
    },
    {
      "cell_type": "code",
      "source": [
        "history = model.fit(X_train, y_train, epochs=20, validation_data=(X_test, y_test))"
      ],
      "metadata": {
        "id": "Aef6vqSbCtNQ",
        "colab": {
          "base_uri": "https://localhost:8080/"
        },
        "outputId": "de259e39-03a9-4e1d-d68b-4f068e57c422"
      },
      "execution_count": null,
      "outputs": [
        {
          "output_type": "stream",
          "name": "stdout",
          "text": [
            "Epoch 1/20\n",
            "1875/1875 [==============================] - 15s 8ms/step - loss: 0.1830 - accuracy: 0.9455 - val_loss: 0.1012 - val_accuracy: 0.9686\n",
            "Epoch 2/20\n",
            "1875/1875 [==============================] - 15s 8ms/step - loss: 0.0793 - accuracy: 0.9749 - val_loss: 0.0990 - val_accuracy: 0.9709\n",
            "Epoch 3/20\n",
            "1875/1875 [==============================] - 15s 8ms/step - loss: 0.0546 - accuracy: 0.9827 - val_loss: 0.0719 - val_accuracy: 0.9783\n",
            "Epoch 4/20\n",
            "1875/1875 [==============================] - 14s 8ms/step - loss: 0.0435 - accuracy: 0.9862 - val_loss: 0.0791 - val_accuracy: 0.9781\n",
            "Epoch 5/20\n",
            "1875/1875 [==============================] - 16s 9ms/step - loss: 0.0328 - accuracy: 0.9892 - val_loss: 0.0743 - val_accuracy: 0.9808\n",
            "Epoch 6/20\n",
            "1875/1875 [==============================] - 16s 8ms/step - loss: 0.0294 - accuracy: 0.9908 - val_loss: 0.0671 - val_accuracy: 0.9810\n",
            "Epoch 7/20\n",
            "1875/1875 [==============================] - 15s 8ms/step - loss: 0.0270 - accuracy: 0.9919 - val_loss: 0.0859 - val_accuracy: 0.9787\n",
            "Epoch 8/20\n",
            "1875/1875 [==============================] - 14s 8ms/step - loss: 0.0213 - accuracy: 0.9932 - val_loss: 0.0887 - val_accuracy: 0.9803\n",
            "Epoch 9/20\n",
            "1875/1875 [==============================] - 14s 8ms/step - loss: 0.0222 - accuracy: 0.9937 - val_loss: 0.0879 - val_accuracy: 0.9791\n",
            "Epoch 10/20\n",
            "1875/1875 [==============================] - 15s 8ms/step - loss: 0.0201 - accuracy: 0.9939 - val_loss: 0.0757 - val_accuracy: 0.9811\n",
            "Epoch 11/20\n",
            "1875/1875 [==============================] - 14s 8ms/step - loss: 0.0143 - accuracy: 0.9958 - val_loss: 0.1084 - val_accuracy: 0.9776\n",
            "Epoch 12/20\n",
            "1875/1875 [==============================] - 14s 7ms/step - loss: 0.0176 - accuracy: 0.9947 - val_loss: 0.1021 - val_accuracy: 0.9810\n",
            "Epoch 13/20\n",
            "1875/1875 [==============================] - 14s 7ms/step - loss: 0.0150 - accuracy: 0.9955 - val_loss: 0.0968 - val_accuracy: 0.9820\n",
            "Epoch 14/20\n",
            "1875/1875 [==============================] - 14s 7ms/step - loss: 0.0132 - accuracy: 0.9961 - val_loss: 0.1198 - val_accuracy: 0.9827\n",
            "Epoch 15/20\n",
            "1875/1875 [==============================] - 14s 7ms/step - loss: 0.0150 - accuracy: 0.9955 - val_loss: 0.1200 - val_accuracy: 0.9802\n",
            "Epoch 16/20\n",
            "1875/1875 [==============================] - 14s 8ms/step - loss: 0.0121 - accuracy: 0.9966 - val_loss: 0.1234 - val_accuracy: 0.9783\n",
            "Epoch 17/20\n",
            "1875/1875 [==============================] - 14s 8ms/step - loss: 0.0144 - accuracy: 0.9966 - val_loss: 0.1119 - val_accuracy: 0.9808\n",
            "Epoch 18/20\n",
            "1875/1875 [==============================] - 14s 7ms/step - loss: 0.0142 - accuracy: 0.9966 - val_loss: 0.1122 - val_accuracy: 0.9829\n",
            "Epoch 19/20\n",
            "1875/1875 [==============================] - 14s 8ms/step - loss: 0.0107 - accuracy: 0.9970 - val_loss: 0.1382 - val_accuracy: 0.9828\n",
            "Epoch 20/20\n",
            "1875/1875 [==============================] - 14s 7ms/step - loss: 0.0120 - accuracy: 0.9970 - val_loss: 0.1311 - val_accuracy: 0.9834\n"
          ]
        }
      ]
    },
    {
      "cell_type": "markdown",
      "source": [
        "WhAT IS THE Accuracy of the Model?\n",
        "\n",
        "\n",
        "Plot the Accuracy of the model\n"
      ],
      "metadata": {
        "id": "S7RkPT52Pl-Z"
      }
    },
    {
      "cell_type": "code",
      "source": [
        "plt.plot(history.history['accuracy'])"
      ],
      "metadata": {
        "colab": {
          "base_uri": "https://localhost:8080/",
          "height": 447
        },
        "id": "FZDKHW9ANitG",
        "outputId": "ef391d47-b2ca-40dd-907d-1bbd389e5a95"
      },
      "execution_count": null,
      "outputs": [
        {
          "output_type": "execute_result",
          "data": {
            "text/plain": [
              "[<matplotlib.lines.Line2D at 0x7fbbaa78bcd0>]"
            ]
          },
          "metadata": {},
          "execution_count": 20
        },
        {
          "output_type": "display_data",
          "data": {
            "text/plain": [
              "<Figure size 640x480 with 1 Axes>"
            ],
            "image/png": "[encoded data removed]"
          },
          "metadata": {}
        }
      ]
    },
    {
      "cell_type": "markdown",
      "source": [
        "Accuracy of Training and Validation With Loss"
      ],
      "metadata": {
        "id": "MufyuZwDQHNK"
      }
    },
    {
      "cell_type": "code",
      "source": [
        "plt.plot(history.history['accuracy'])\n",
        "plt.plot(history.history['val_accuracy'])"
      ],
      "metadata": {
        "colab": {
          "base_uri": "https://localhost:8080/",
          "height": 447
        },
        "id": "J4UK47lKQAVz",
        "outputId": "010aafc3-5ec2-444c-cacc-497cda31373c"
      },
      "execution_count": null,
      "outputs": [
        {
          "output_type": "execute_result",
          "data": {
            "text/plain": [
              "[<matplotlib.lines.Line2D at 0x7fbbc86fa2f0>]"
            ]
          },
          "metadata": {},
          "execution_count": 21
        },
        {
          "output_type": "display_data",
          "data": {
            "text/plain": [
              "<Figure size 640x480 with 1 Axes>"
            ],
            "image/png": "[encoded data removed]"
          },
          "metadata": {}
        }
      ]
    },
    {
      "cell_type": "code",
      "source": [
        "plt.plot(history.history['accuracy'])\n",
        "plt.plot(history.history['val_accuracy'])\n",
        "plt.plot(history.history['loss'])\n"
      ],
      "metadata": {
        "colab": {
          "base_uri": "https://localhost:8080/",
          "height": 447
        },
        "id": "sUcIkAUqQbnJ",
        "outputId": "a688c3c1-6d02-4916-b892-f2721246935d"
      },
      "execution_count": null,
      "outputs": [
        {
          "output_type": "execute_result",
          "data": {
            "text/plain": [
              "[<matplotlib.lines.Line2D at 0x7fbbaa795120>]"
            ]
          },
          "metadata": {},
          "execution_count": 22
        },
        {
          "output_type": "display_data",
          "data": {
            "text/plain": [
              "<Figure size 640x480 with 1 Axes>"
            ],
            "image/png": "[encoded data removed]"
          },
          "metadata": {}
        }
      ]
    },
    {
      "cell_type": "markdown",
      "source": [
        "Evaluating The Model"
      ],
      "metadata": {
        "id": "XR4JCilFQnwI"
      }
    },
    {
      "cell_type": "code",
      "source": [
        "score = model.evaluate(X_test, y_test)"
      ],
      "metadata": {
        "colab": {
          "base_uri": "https://localhost:8080/"
        },
        "id": "nRli2oWmQhhf",
        "outputId": "8a69e539-6da9-4922-fe10-5a4772cd8cc9"
      },
      "execution_count": null,
      "outputs": [
        {
          "output_type": "stream",
          "name": "stdout",
          "text": [
            "313/313 [==============================] - 1s 4ms/step - loss: 0.1311 - accuracy: 0.9834\n"
          ]
        }
      ]
    },
    {
      "cell_type": "code",
      "source": [
        "score"
      ],
      "metadata": {
        "colab": {
          "base_uri": "https://localhost:8080/"
        },
        "id": "gaiyghp6Q2uA",
        "outputId": "64a540d6-1364-4e12-8baf-3eb1e2f69804"
      },
      "execution_count": null,
      "outputs": [
        {
          "output_type": "execute_result",
          "data": {
            "text/plain": [
              "[0.1310923546552658, 0.9833999872207642]"
            ]
          },
          "metadata": {},
          "execution_count": 24
        }
      ]
    },
    {
      "cell_type": "code",
      "source": [],
      "metadata": {
        "id": "r-5XAMA3Q7-E"
      },
      "execution_count": null,
      "outputs": []
    }
  ]
}